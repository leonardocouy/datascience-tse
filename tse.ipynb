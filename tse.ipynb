{
 "cells": [
  {
   "cell_type": "markdown",
   "metadata": {},
   "source": [
    "# Data Science com a base de dados de candidatos do TSE de MINAS GERAIS (ANO: 2016)\n",
    "\n",
    "### Análise feita por: Leonardo Flores "
   ]
  },
  {
   "cell_type": "markdown",
   "metadata": {},
   "source": [
    "## Importar as bibliotecas"
   ]
  },
  {
   "cell_type": "code",
   "execution_count": 13,
   "metadata": {
    "collapsed": true
   },
   "outputs": [],
   "source": [
    "from IPython.display import Image  \n",
    "import pandas as pd\n",
    "import numpy as np\n",
    "import matplotlib.pyplot as plt\n",
    "%matplotlib inline"
   ]
  },
  {
   "cell_type": "markdown",
   "metadata": {},
   "source": [
    "# 1. Leitura da base de dados"
   ]
  },
  {
   "cell_type": "code",
   "execution_count": 14,
   "metadata": {},
   "outputs": [
    {
     "data": {
      "text/html": [
       "<div>\n",
       "<table border=\"1\" class=\"dataframe\">\n",
       "  <thead>\n",
       "    <tr style=\"text-align: right;\">\n",
       "      <th></th>\n",
       "      <th>DATA_GERACAO</th>\n",
       "      <th>HORA_GERACAO</th>\n",
       "      <th>ANO_ELEICAO</th>\n",
       "      <th>NUM_TURNO</th>\n",
       "      <th>DESCRICAO_ELEICAO</th>\n",
       "      <th>SIGLA_UF</th>\n",
       "      <th>SIGLA_UE</th>\n",
       "      <th>DESCRICAO_UE</th>\n",
       "      <th>CODIGO_CARGO</th>\n",
       "      <th>DESCRICAO_CARGO</th>\n",
       "      <th>...</th>\n",
       "      <th>DESCRICAO_COR_RACA</th>\n",
       "      <th>CODIGO_NACIONALIDADE</th>\n",
       "      <th>DESCRICAO_NACIONALIDADE</th>\n",
       "      <th>SIGLA_UF_NASCIMENTO</th>\n",
       "      <th>CODIGO_MUNICIPIO_NASCIMENTO</th>\n",
       "      <th>NOME_MUNICIPIO_NASCIMENTO</th>\n",
       "      <th>DESPESA_MAX_CAMPANHA</th>\n",
       "      <th>COD_SIT_TOT_TURNO</th>\n",
       "      <th>DESC_SIT_TOT_TURNO</th>\n",
       "      <th>NM_EMAIL</th>\n",
       "    </tr>\n",
       "  </thead>\n",
       "  <tbody>\n",
       "    <tr>\n",
       "      <th>0</th>\n",
       "      <td>09/05/2017</td>\n",
       "      <td>19:15:24</td>\n",
       "      <td>2016</td>\n",
       "      <td>1</td>\n",
       "      <td>Eleições Municipais 2016</td>\n",
       "      <td>MG</td>\n",
       "      <td>45012</td>\n",
       "      <td>EXTREMA</td>\n",
       "      <td>13</td>\n",
       "      <td>VEREADOR</td>\n",
       "      <td>...</td>\n",
       "      <td>BRANCA</td>\n",
       "      <td>1</td>\n",
       "      <td>BRASILEIRA NATA</td>\n",
       "      <td>SP</td>\n",
       "      <td>-3</td>\n",
       "      <td>EXTREMA</td>\n",
       "      <td>0</td>\n",
       "      <td>5</td>\n",
       "      <td>SUPLENTE</td>\n",
       "      <td>EXTREMAFITNESS@OUTLOOK.COM</td>\n",
       "    </tr>\n",
       "    <tr>\n",
       "      <th>1</th>\n",
       "      <td>09/05/2017</td>\n",
       "      <td>19:15:24</td>\n",
       "      <td>2016</td>\n",
       "      <td>1</td>\n",
       "      <td>Eleições Municipais 2016</td>\n",
       "      <td>MG</td>\n",
       "      <td>43893</td>\n",
       "      <td>CORONEL MURTA</td>\n",
       "      <td>13</td>\n",
       "      <td>VEREADOR</td>\n",
       "      <td>...</td>\n",
       "      <td>PRETA</td>\n",
       "      <td>1</td>\n",
       "      <td>BRASILEIRA NATA</td>\n",
       "      <td>MG</td>\n",
       "      <td>-3</td>\n",
       "      <td>CORONEL MURTA</td>\n",
       "      <td>0</td>\n",
       "      <td>5</td>\n",
       "      <td>SUPLENTE</td>\n",
       "      <td>COLIGACAOCORONELMURTA@GMAIL.COM</td>\n",
       "    </tr>\n",
       "    <tr>\n",
       "      <th>2</th>\n",
       "      <td>09/05/2017</td>\n",
       "      <td>19:15:24</td>\n",
       "      <td>2016</td>\n",
       "      <td>1</td>\n",
       "      <td>Eleições Municipais 2016</td>\n",
       "      <td>MG</td>\n",
       "      <td>43893</td>\n",
       "      <td>CORONEL MURTA</td>\n",
       "      <td>13</td>\n",
       "      <td>VEREADOR</td>\n",
       "      <td>...</td>\n",
       "      <td>PARDA</td>\n",
       "      <td>1</td>\n",
       "      <td>BRASILEIRA NATA</td>\n",
       "      <td>MG</td>\n",
       "      <td>-3</td>\n",
       "      <td>CORONEL MURTA</td>\n",
       "      <td>0</td>\n",
       "      <td>5</td>\n",
       "      <td>SUPLENTE</td>\n",
       "      <td>COLIGACAOCORONELMURTA@GMAIL.COM</td>\n",
       "    </tr>\n",
       "    <tr>\n",
       "      <th>3</th>\n",
       "      <td>09/05/2017</td>\n",
       "      <td>19:15:24</td>\n",
       "      <td>2016</td>\n",
       "      <td>1</td>\n",
       "      <td>Eleições Municipais 2016</td>\n",
       "      <td>MG</td>\n",
       "      <td>49891</td>\n",
       "      <td>PEQUERI</td>\n",
       "      <td>13</td>\n",
       "      <td>VEREADOR</td>\n",
       "      <td>...</td>\n",
       "      <td>BRANCA</td>\n",
       "      <td>1</td>\n",
       "      <td>BRASILEIRA NATA</td>\n",
       "      <td>MG</td>\n",
       "      <td>-3</td>\n",
       "      <td>PEQUERI</td>\n",
       "      <td>-1</td>\n",
       "      <td>5</td>\n",
       "      <td>SUPLENTE</td>\n",
       "      <td>FABRICIOCOSTAGARCIA@GMAIL.COM</td>\n",
       "    </tr>\n",
       "    <tr>\n",
       "      <th>4</th>\n",
       "      <td>09/05/2017</td>\n",
       "      <td>19:15:24</td>\n",
       "      <td>2016</td>\n",
       "      <td>1</td>\n",
       "      <td>Eleições Municipais 2016</td>\n",
       "      <td>MG</td>\n",
       "      <td>49891</td>\n",
       "      <td>PEQUERI</td>\n",
       "      <td>13</td>\n",
       "      <td>VEREADOR</td>\n",
       "      <td>...</td>\n",
       "      <td>BRANCA</td>\n",
       "      <td>1</td>\n",
       "      <td>BRASILEIRA NATA</td>\n",
       "      <td>MG</td>\n",
       "      <td>-3</td>\n",
       "      <td>MAR DE ESPANHA</td>\n",
       "      <td>-1</td>\n",
       "      <td>5</td>\n",
       "      <td>SUPLENTE</td>\n",
       "      <td>FABRICIOCOSTAGARCIA@GMAIL.COM</td>\n",
       "    </tr>\n",
       "  </tbody>\n",
       "</table>\n",
       "<p>5 rows × 46 columns</p>\n",
       "</div>"
      ],
      "text/plain": [
       "  DATA_GERACAO HORA_GERACAO  ANO_ELEICAO  NUM_TURNO         DESCRICAO_ELEICAO  \\\n",
       "0   09/05/2017     19:15:24         2016          1  Eleições Municipais 2016   \n",
       "1   09/05/2017     19:15:24         2016          1  Eleições Municipais 2016   \n",
       "2   09/05/2017     19:15:24         2016          1  Eleições Municipais 2016   \n",
       "3   09/05/2017     19:15:24         2016          1  Eleições Municipais 2016   \n",
       "4   09/05/2017     19:15:24         2016          1  Eleições Municipais 2016   \n",
       "\n",
       "  SIGLA_UF  SIGLA_UE   DESCRICAO_UE  CODIGO_CARGO DESCRICAO_CARGO  \\\n",
       "0       MG     45012        EXTREMA            13        VEREADOR   \n",
       "1       MG     43893  CORONEL MURTA            13        VEREADOR   \n",
       "2       MG     43893  CORONEL MURTA            13        VEREADOR   \n",
       "3       MG     49891        PEQUERI            13        VEREADOR   \n",
       "4       MG     49891        PEQUERI            13        VEREADOR   \n",
       "\n",
       "                ...                DESCRICAO_COR_RACA  CODIGO_NACIONALIDADE  \\\n",
       "0               ...                            BRANCA                     1   \n",
       "1               ...                             PRETA                     1   \n",
       "2               ...                             PARDA                     1   \n",
       "3               ...                            BRANCA                     1   \n",
       "4               ...                            BRANCA                     1   \n",
       "\n",
       "   DESCRICAO_NACIONALIDADE  SIGLA_UF_NASCIMENTO CODIGO_MUNICIPIO_NASCIMENTO  \\\n",
       "0          BRASILEIRA NATA                   SP                          -3   \n",
       "1          BRASILEIRA NATA                   MG                          -3   \n",
       "2          BRASILEIRA NATA                   MG                          -3   \n",
       "3          BRASILEIRA NATA                   MG                          -3   \n",
       "4          BRASILEIRA NATA                   MG                          -3   \n",
       "\n",
       "   NOME_MUNICIPIO_NASCIMENTO DESPESA_MAX_CAMPANHA  COD_SIT_TOT_TURNO  \\\n",
       "0                    EXTREMA                    0                  5   \n",
       "1              CORONEL MURTA                    0                  5   \n",
       "2              CORONEL MURTA                    0                  5   \n",
       "3                    PEQUERI                   -1                  5   \n",
       "4             MAR DE ESPANHA                   -1                  5   \n",
       "\n",
       "  DESC_SIT_TOT_TURNO                         NM_EMAIL  \n",
       "0           SUPLENTE       EXTREMAFITNESS@OUTLOOK.COM  \n",
       "1           SUPLENTE  COLIGACAOCORONELMURTA@GMAIL.COM  \n",
       "2           SUPLENTE  COLIGACAOCORONELMURTA@GMAIL.COM  \n",
       "3           SUPLENTE    FABRICIOCOSTAGARCIA@GMAIL.COM  \n",
       "4           SUPLENTE    FABRICIOCOSTAGARCIA@GMAIL.COM  \n",
       "\n",
       "[5 rows x 46 columns]"
      ]
     },
     "execution_count": 14,
     "metadata": {},
     "output_type": "execute_result"
    }
   ],
   "source": [
    "filename = 'data/consulta_cand_2016_MG.txt'\n",
    "\n",
    "\n",
    "cols = [\n",
    "    \"DATA_GERACAO\",\"HORA_GERACAO\",\"ANO_ELEICAO\",\"NUM_TURNO\",\"DESCRICAO_ELEICAO\",\"SIGLA_UF\",\"SIGLA_UE\",\n",
    "    \"DESCRICAO_UE\",\"CODIGO_CARGO\",\"DESCRICAO_CARGO\", \"NOME_CANDIDATO\",\"SEQUENCIAL_CANDIDATO\",\"NUMERO_CANDIDATO\",\n",
    "    \"CPF_CANDIDATO\",\"NOME_URNA_CANDIDATO\",\"COD_SITUACAO_CANDIDATURA\",\"DES_SITUACAO_CANDIDATURA\",\"NUMERO_PARTIDO\",\n",
    "    \"SIGLA_PARTIDO\",\"NOME_PARTIDO\",\"CODIGO_LEGENDA\",\"SIGLA_LEGENDA\",\"COMPOSICAO_LEGENDA\",\"NOME_LEGENDA\",\n",
    "    \"CODIGO_OCUPACAO\",\"DESCRICAO_OCUPACAO\",\"DATA_NASCIMENTO\",\"NUM_TITULO_ELEITORAL_CANDIDATO\",\"IDADE_DATA_ELEICAO\",\n",
    "    \"CODIGO_SEXO\",\"DESCRICAO_SEXO\",\"COD_GRAU_INSTRUCAO\",\"DESCRICAO_GRAU_INSTRUCAO\",\"CODIGO_ESTADO_CIVIL\",\n",
    "    \"DESCRICAO_ESTADO_CIVIL\",\"CODIGO_COR_RACA\",\"DESCRICAO_COR_RACA\",\"CODIGO_NACIONALIDADE\", \n",
    "    \"DESCRICAO_NACIONALIDADE\",\"SIGLA_UF_NASCIMENTO\",\"CODIGO_MUNICIPIO_NASCIMENTO\",\"NOME_MUNICIPIO_NASCIMENTO\",\n",
    "    \"DESPESA_MAX_CAMPANHA\",\"COD_SIT_TOT_TURNO\",\"DESC_SIT_TOT_TURNO\",\"NM_EMAIL\",\n",
    "]\n",
    "\n",
    "df = pd.read_csv(filename, sep=\";\", names=cols, encoding='iso-8859-1')\n",
    "df.head(5)"
   ]
  },
  {
   "cell_type": "markdown",
   "metadata": {},
   "source": [
    "## 2. Limpeza e Filtragem dos dados"
   ]
  },
  {
   "cell_type": "code",
   "execution_count": 15,
   "metadata": {},
   "outputs": [
    {
     "data": {
      "text/html": [
       "<div>\n",
       "<table border=\"1\" class=\"dataframe\">\n",
       "  <thead>\n",
       "    <tr style=\"text-align: right;\">\n",
       "      <th></th>\n",
       "      <th>CPF_CANDIDATO</th>\n",
       "      <th>NUMERO_CANDIDATO</th>\n",
       "      <th>NOME_CANDIDATO</th>\n",
       "      <th>SIGLA_PARTIDO</th>\n",
       "      <th>SIGLA_UF_NASCIMENTO</th>\n",
       "      <th>NOME_MUNICIPIO_NASCIMENTO</th>\n",
       "      <th>DESCRICAO_UE</th>\n",
       "      <th>DESCRICAO_CARGO</th>\n",
       "      <th>IDADE_DATA_ELEICAO</th>\n",
       "      <th>DESC_SIT_TOT_TURNO</th>\n",
       "    </tr>\n",
       "  </thead>\n",
       "  <tbody>\n",
       "    <tr>\n",
       "      <th>0</th>\n",
       "      <td>3197815696</td>\n",
       "      <td>45444</td>\n",
       "      <td>EDNA SILVA MARCELINO</td>\n",
       "      <td>PSDB</td>\n",
       "      <td>SP</td>\n",
       "      <td>EXTREMA</td>\n",
       "      <td>EXTREMA</td>\n",
       "      <td>VEREADOR</td>\n",
       "      <td>40</td>\n",
       "      <td>suplente</td>\n",
       "    </tr>\n",
       "    <tr>\n",
       "      <th>1</th>\n",
       "      <td>46689451615</td>\n",
       "      <td>45789</td>\n",
       "      <td>JOAO BOSCO CALDEIRA</td>\n",
       "      <td>PSDB</td>\n",
       "      <td>MG</td>\n",
       "      <td>CORONEL MURTA</td>\n",
       "      <td>CORONEL MURTA</td>\n",
       "      <td>VEREADOR</td>\n",
       "      <td>65</td>\n",
       "      <td>suplente</td>\n",
       "    </tr>\n",
       "    <tr>\n",
       "      <th>2</th>\n",
       "      <td>63903873691</td>\n",
       "      <td>45321</td>\n",
       "      <td>NELMA MARIA CAIRES RIBEIRO SANTOS</td>\n",
       "      <td>PSDB</td>\n",
       "      <td>MG</td>\n",
       "      <td>CORONEL MURTA</td>\n",
       "      <td>CORONEL MURTA</td>\n",
       "      <td>VEREADOR</td>\n",
       "      <td>59</td>\n",
       "      <td>suplente</td>\n",
       "    </tr>\n",
       "    <tr>\n",
       "      <th>3</th>\n",
       "      <td>47791870606</td>\n",
       "      <td>45678</td>\n",
       "      <td>STELLA MARY RODRIGUES</td>\n",
       "      <td>PSDB</td>\n",
       "      <td>MG</td>\n",
       "      <td>PEQUERI</td>\n",
       "      <td>PEQUERI</td>\n",
       "      <td>VEREADOR</td>\n",
       "      <td>54</td>\n",
       "      <td>suplente</td>\n",
       "    </tr>\n",
       "    <tr>\n",
       "      <th>4</th>\n",
       "      <td>5774811697</td>\n",
       "      <td>45145</td>\n",
       "      <td>LEONARDO VITAL RODRIGUES</td>\n",
       "      <td>PSDB</td>\n",
       "      <td>MG</td>\n",
       "      <td>MAR DE ESPANHA</td>\n",
       "      <td>PEQUERI</td>\n",
       "      <td>VEREADOR</td>\n",
       "      <td>32</td>\n",
       "      <td>suplente</td>\n",
       "    </tr>\n",
       "  </tbody>\n",
       "</table>\n",
       "</div>"
      ],
      "text/plain": [
       "   CPF_CANDIDATO  NUMERO_CANDIDATO                     NOME_CANDIDATO  \\\n",
       "0     3197815696             45444               EDNA SILVA MARCELINO   \n",
       "1    46689451615             45789                JOAO BOSCO CALDEIRA   \n",
       "2    63903873691             45321  NELMA MARIA CAIRES RIBEIRO SANTOS   \n",
       "3    47791870606             45678              STELLA MARY RODRIGUES   \n",
       "4     5774811697             45145           LEONARDO VITAL RODRIGUES   \n",
       "\n",
       "  SIGLA_PARTIDO SIGLA_UF_NASCIMENTO NOME_MUNICIPIO_NASCIMENTO   DESCRICAO_UE  \\\n",
       "0          PSDB                  SP                   EXTREMA        EXTREMA   \n",
       "1          PSDB                  MG             CORONEL MURTA  CORONEL MURTA   \n",
       "2          PSDB                  MG             CORONEL MURTA  CORONEL MURTA   \n",
       "3          PSDB                  MG                   PEQUERI        PEQUERI   \n",
       "4          PSDB                  MG            MAR DE ESPANHA        PEQUERI   \n",
       "\n",
       "  DESCRICAO_CARGO  IDADE_DATA_ELEICAO DESC_SIT_TOT_TURNO  \n",
       "0        VEREADOR                  40           suplente  \n",
       "1        VEREADOR                  65           suplente  \n",
       "2        VEREADOR                  59           suplente  \n",
       "3        VEREADOR                  54           suplente  \n",
       "4        VEREADOR                  32           suplente  "
      ]
     },
     "execution_count": 15,
     "metadata": {},
     "output_type": "execute_result"
    }
   ],
   "source": [
    "# Filtrar colunas\n",
    "\n",
    "select_cols = [\n",
    "    'CPF_CANDIDATO', 'NUMERO_CANDIDATO', 'NOME_CANDIDATO', 'SIGLA_PARTIDO', 'SIGLA_UF_NASCIMENTO', \n",
    "    'NOME_MUNICIPIO_NASCIMENTO','DESCRICAO_UE','DESCRICAO_CARGO', 'IDADE_DATA_ELEICAO', 'DESC_SIT_TOT_TURNO'\n",
    "]\n",
    "\n",
    "# Resumir a situação (DESC_SIT_TOT_TURNO)\n",
    "\n",
    "def check_situation(situation):\n",
    "    situations = {\n",
    "        '2º TURNO': 'segundo turno',\n",
    "        'RENÚNCIA/FALECIMENTO COM SUBSTITUIÇÃO': 'substituído', 'SUBSTITUÍDO': 'substituído', \n",
    "        'SUPLENTE': 'suplente',\n",
    "        'ELEITO': 'eleito','ELEITO POR QP': 'eleito','MÉDIA': 'eleito', 'ELEITO POR MÉDIA': 'eleito', \n",
    "        '#NE#': 'não eleito','NÃO ELEITO': 'não eleito','#NULO#': 'não eleito',\n",
    "        'REGISTRO NEGADO ANTES DA ELEIÇÃO': 'cassado','INDEFERIDO COM RECURSO': 'cassado', \n",
    "        'RENÚNCIA/FALECIMENTO/CASSAÇÃO ANTES DA ELEIÇÃO': 'cassado', 'REGISTRO NEGADO APÓS A ELEIÇÃO': 'cassado',\n",
    "        'RENÚNCIA/FALECIMENTO/CASSAÇÃO APÓS A ELEIÇÃO': 'cassado','CASSADO COM RECURSO': 'cassado',\n",
    "    }\n",
    "    return situations[situation]\n",
    "\n",
    "df.DESC_SIT_TOT_TURNO = df.DESC_SIT_TOT_TURNO.map(check_situation)\n",
    "\n",
    "df = df[select_cols]\n",
    "df.head(5)"
   ]
  },
  {
   "cell_type": "markdown",
   "metadata": {},
   "source": [
    "## 3. Análise e Visualização de Dados"
   ]
  },
  {
   "cell_type": "markdown",
   "metadata": {},
   "source": [
    "### Número de candidatos"
   ]
  },
  {
   "cell_type": "code",
   "execution_count": 16,
   "metadata": {},
   "outputs": [
    {
     "name": "stdout",
     "output_type": "stream",
     "text": [
      "78722 Candidatos em Minas Gerais no ano de 2016\n"
     ]
    }
   ],
   "source": [
    "print('{} Candidatos em Minas Gerais no ano de 2016'.format(len(df.index)))"
   ]
  },
  {
   "cell_type": "markdown",
   "metadata": {},
   "source": [
    "### Média de idade dos candidatos"
   ]
  },
  {
   "cell_type": "code",
   "execution_count": 17,
   "metadata": {},
   "outputs": [
    {
     "name": "stdout",
     "output_type": "stream",
     "text": [
      "A média de idade dos candidatos é 45 anos\n"
     ]
    }
   ],
   "source": [
    "print('A média de idade dos candidatos é {:.0f} anos'.format(df.IDADE_DATA_ELEICAO.mean()))"
   ]
  },
  {
   "cell_type": "markdown",
   "metadata": {},
   "source": [
    "### Estatística descritiva de candidatos por cidades"
   ]
  },
  {
   "cell_type": "code",
   "execution_count": 18,
   "metadata": {},
   "outputs": [
    {
     "name": "stdout",
     "output_type": "stream",
     "text": [
      "A média de candidatos por cidades é 92 candidatos\n",
      "O menor número de candidatos é igual a 21\n",
      "O maior número de candidatos é igual a 1488\n"
     ]
    }
   ],
   "source": [
    "num_candidates_by_cities = df.groupby(\"DESCRICAO_UE\").size()\n",
    "\n",
    "print('A média de candidatos por cidades é {:.0f} candidatos'.format(num_candidates_by_cities.mean()))\n",
    "print('O menor número de candidatos é igual a {:.0f}'.format(num_candidates_by_cities.min()))\n",
    "print('O maior número de candidatos é igual a {:.0f}'.format(num_candidates_by_cities.max()))"
   ]
  },
  {
   "cell_type": "markdown",
   "metadata": {},
   "source": [
    "### As 10 cidades com mais candidatos"
   ]
  },
  {
   "cell_type": "code",
   "execution_count": 19,
   "metadata": {},
   "outputs": [
    {
     "data": {
      "text/plain": [
       "DESCRICAO_UE\n",
       "BELO HORIZONTE          1488\n",
       "UBERLÂNDIA               697\n",
       "CONTAGEM                 585\n",
       "BETIM                    568\n",
       "SANTA LUZIA              441\n",
       "JUIZ DE FORA             441\n",
       "GOVERNADOR VALADARES     432\n",
       "MONTES CLAROS            421\n",
       "SETE LAGOAS              388\n",
       "PARÁ DE MINAS            368\n",
       "dtype: int64"
      ]
     },
     "execution_count": 19,
     "metadata": {},
     "output_type": "execute_result"
    }
   ],
   "source": [
    "cities = num_candidates_by_cities.sort_values(ascending=False).head(10)\n",
    "cities"
   ]
  },
  {
   "cell_type": "markdown",
   "metadata": {},
   "source": [
    "### Gráfico de Barra"
   ]
  },
  {
   "cell_type": "code",
   "execution_count": 20,
   "metadata": {},
   "outputs": [
    {
     "data": {
      "text/plain": [
       "<matplotlib.axes._subplots.AxesSubplot at 0x11388f978>"
      ]
     },
     "execution_count": 20,
     "metadata": {},
     "output_type": "execute_result"
    },
    {
     "data": {
      "image/png": "[encoded data removed]",
      "text/plain": [
       "<matplotlib.figure.Figure at 0x11386beb8>"
      ]
     },
     "metadata": {},
     "output_type": "display_data"
    }
   ],
   "source": [
    "cities.plot(kind='bar')"
   ]
  },
  {
   "cell_type": "markdown",
   "metadata": {},
   "source": [
    "## 4. Análise de candidatos que não candidataram para sua cidade natal"
   ]
  },
  {
   "cell_type": "code",
   "execution_count": 21,
   "metadata": {},
   "outputs": [
    {
     "data": {
      "text/html": [
       "<div>\n",
       "<table border=\"1\" class=\"dataframe\">\n",
       "  <thead>\n",
       "    <tr style=\"text-align: right;\">\n",
       "      <th></th>\n",
       "      <th>CPF_CANDIDATO</th>\n",
       "      <th>NUMERO_CANDIDATO</th>\n",
       "      <th>NOME_CANDIDATO</th>\n",
       "      <th>SIGLA_PARTIDO</th>\n",
       "      <th>SIGLA_UF_NASCIMENTO</th>\n",
       "      <th>NOME_MUNICIPIO_NASCIMENTO</th>\n",
       "      <th>DESCRICAO_UE</th>\n",
       "      <th>DESCRICAO_CARGO</th>\n",
       "      <th>IDADE_DATA_ELEICAO</th>\n",
       "      <th>DESC_SIT_TOT_TURNO</th>\n",
       "    </tr>\n",
       "  </thead>\n",
       "  <tbody>\n",
       "    <tr>\n",
       "      <th>4</th>\n",
       "      <td>5774811697</td>\n",
       "      <td>45145</td>\n",
       "      <td>LEONARDO VITAL RODRIGUES</td>\n",
       "      <td>PSDB</td>\n",
       "      <td>MG</td>\n",
       "      <td>MAR DE ESPANHA</td>\n",
       "      <td>PEQUERI</td>\n",
       "      <td>VEREADOR</td>\n",
       "      <td>32</td>\n",
       "      <td>suplente</td>\n",
       "    </tr>\n",
       "    <tr>\n",
       "      <th>5</th>\n",
       "      <td>38397722653</td>\n",
       "      <td>45369</td>\n",
       "      <td>GERSOM DE MELLO</td>\n",
       "      <td>PSDB</td>\n",
       "      <td>MG</td>\n",
       "      <td>MAR DE ESPANHA</td>\n",
       "      <td>PEQUERI</td>\n",
       "      <td>VEREADOR</td>\n",
       "      <td>53</td>\n",
       "      <td>suplente</td>\n",
       "    </tr>\n",
       "    <tr>\n",
       "      <th>7</th>\n",
       "      <td>4538473669</td>\n",
       "      <td>10333</td>\n",
       "      <td>GLADSON APARECIDO DA SILVA</td>\n",
       "      <td>PRB</td>\n",
       "      <td>MG</td>\n",
       "      <td>BELO HORIZONTE</td>\n",
       "      <td>GUANHÃES</td>\n",
       "      <td>VEREADOR</td>\n",
       "      <td>35</td>\n",
       "      <td>não eleito</td>\n",
       "    </tr>\n",
       "    <tr>\n",
       "      <th>10</th>\n",
       "      <td>8304102609</td>\n",
       "      <td>22333</td>\n",
       "      <td>RUDSON FAGUNDES DE OLIVEIRA</td>\n",
       "      <td>PR</td>\n",
       "      <td>MG</td>\n",
       "      <td>CURVELO</td>\n",
       "      <td>GOUVEIA</td>\n",
       "      <td>VEREADOR</td>\n",
       "      <td>28</td>\n",
       "      <td>eleito</td>\n",
       "    </tr>\n",
       "    <tr>\n",
       "      <th>11</th>\n",
       "      <td>7652592658</td>\n",
       "      <td>25609</td>\n",
       "      <td>CINTIA HELENA OLIVEIRA</td>\n",
       "      <td>DEM</td>\n",
       "      <td>RJ</td>\n",
       "      <td>BARRA MANSA</td>\n",
       "      <td>BOM JARDIM DE MINAS</td>\n",
       "      <td>VEREADOR</td>\n",
       "      <td>27</td>\n",
       "      <td>suplente</td>\n",
       "    </tr>\n",
       "  </tbody>\n",
       "</table>\n",
       "</div>"
      ],
      "text/plain": [
       "    CPF_CANDIDATO  NUMERO_CANDIDATO               NOME_CANDIDATO  \\\n",
       "4      5774811697             45145     LEONARDO VITAL RODRIGUES   \n",
       "5     38397722653             45369              GERSOM DE MELLO   \n",
       "7      4538473669             10333   GLADSON APARECIDO DA SILVA   \n",
       "10     8304102609             22333  RUDSON FAGUNDES DE OLIVEIRA   \n",
       "11     7652592658             25609       CINTIA HELENA OLIVEIRA   \n",
       "\n",
       "   SIGLA_PARTIDO SIGLA_UF_NASCIMENTO NOME_MUNICIPIO_NASCIMENTO  \\\n",
       "4           PSDB                  MG            MAR DE ESPANHA   \n",
       "5           PSDB                  MG            MAR DE ESPANHA   \n",
       "7            PRB                  MG            BELO HORIZONTE   \n",
       "10            PR                  MG                   CURVELO   \n",
       "11           DEM                  RJ               BARRA MANSA   \n",
       "\n",
       "           DESCRICAO_UE DESCRICAO_CARGO  IDADE_DATA_ELEICAO DESC_SIT_TOT_TURNO  \n",
       "4               PEQUERI        VEREADOR                  32           suplente  \n",
       "5               PEQUERI        VEREADOR                  53           suplente  \n",
       "7              GUANHÃES        VEREADOR                  35         não eleito  \n",
       "10              GOUVEIA        VEREADOR                  28             eleito  \n",
       "11  BOM JARDIM DE MINAS        VEREADOR                  27           suplente  "
      ]
     },
     "execution_count": 21,
     "metadata": {},
     "output_type": "execute_result"
    }
   ],
   "source": [
    "condition = df['NOME_MUNICIPIO_NASCIMENTO'] != df['DESCRICAO_UE']\n",
    "\n",
    "df_candidatos = df.loc[condition]\n",
    "df_candidatos.head(5)"
   ]
  },
  {
   "cell_type": "markdown",
   "metadata": {},
   "source": [
    "### Número de candidatos"
   ]
  },
  {
   "cell_type": "code",
   "execution_count": 22,
   "metadata": {},
   "outputs": [
    {
     "name": "stdout",
     "output_type": "stream",
     "text": [
      "42953 Candidatos que não candidataram para sua cidade natal em Minas Gerais no ano de 2016\n"
     ]
    }
   ],
   "source": [
    "print('{} Candidatos que não candidataram para sua cidade natal em Minas Gerais no ano de 2016'.format(len(df_candidatos.index)))"
   ]
  },
  {
   "cell_type": "markdown",
   "metadata": {},
   "source": [
    "### Candidatos a prefeito que não candidataram para sua cidade natal"
   ]
  },
  {
   "cell_type": "code",
   "execution_count": 23,
   "metadata": {
    "scrolled": true
   },
   "outputs": [
    {
     "data": {
      "text/html": [
       "<div>\n",
       "<table border=\"1\" class=\"dataframe\">\n",
       "  <thead>\n",
       "    <tr style=\"text-align: right;\">\n",
       "      <th></th>\n",
       "      <th>CPF_CANDIDATO</th>\n",
       "      <th>NUMERO_CANDIDATO</th>\n",
       "      <th>NOME_CANDIDATO</th>\n",
       "      <th>SIGLA_PARTIDO</th>\n",
       "      <th>SIGLA_UF_NASCIMENTO</th>\n",
       "      <th>NOME_MUNICIPIO_NASCIMENTO</th>\n",
       "      <th>DESCRICAO_UE</th>\n",
       "      <th>DESCRICAO_CARGO</th>\n",
       "      <th>IDADE_DATA_ELEICAO</th>\n",
       "      <th>DESC_SIT_TOT_TURNO</th>\n",
       "    </tr>\n",
       "  </thead>\n",
       "  <tbody>\n",
       "    <tr>\n",
       "      <th>19</th>\n",
       "      <td>4768285627</td>\n",
       "      <td>23</td>\n",
       "      <td>JOSÉ REIS NOGUEIRA DE BARROS</td>\n",
       "      <td>PPS</td>\n",
       "      <td>MG</td>\n",
       "      <td>JANUÁRIA</td>\n",
       "      <td>BONITO DE MINAS</td>\n",
       "      <td>PREFEITO</td>\n",
       "      <td>35</td>\n",
       "      <td>eleito</td>\n",
       "    </tr>\n",
       "    <tr>\n",
       "      <th>80</th>\n",
       "      <td>27992918649</td>\n",
       "      <td>11</td>\n",
       "      <td>ALAOR JOSE MACHADO</td>\n",
       "      <td>PP</td>\n",
       "      <td>MG</td>\n",
       "      <td>DORES DO INDAIA</td>\n",
       "      <td>SERRA DA SAUDADE</td>\n",
       "      <td>PREFEITO</td>\n",
       "      <td>62</td>\n",
       "      <td>eleito</td>\n",
       "    </tr>\n",
       "    <tr>\n",
       "      <th>149</th>\n",
       "      <td>82245932668</td>\n",
       "      <td>55</td>\n",
       "      <td>EDSON RODRIGUES SUZART JUNIOR</td>\n",
       "      <td>PSD</td>\n",
       "      <td>MG</td>\n",
       "      <td>MONTES CLAROS</td>\n",
       "      <td>LUISLÂNDIA</td>\n",
       "      <td>PREFEITO</td>\n",
       "      <td>47</td>\n",
       "      <td>eleito</td>\n",
       "    </tr>\n",
       "    <tr>\n",
       "      <th>162</th>\n",
       "      <td>98316834634</td>\n",
       "      <td>22</td>\n",
       "      <td>ANDRE LUIZ EUFRASIO</td>\n",
       "      <td>PR</td>\n",
       "      <td>MG</td>\n",
       "      <td>BICAS</td>\n",
       "      <td>GUARARÁ</td>\n",
       "      <td>PREFEITO</td>\n",
       "      <td>42</td>\n",
       "      <td>não eleito</td>\n",
       "    </tr>\n",
       "    <tr>\n",
       "      <th>211</th>\n",
       "      <td>50760300615</td>\n",
       "      <td>15</td>\n",
       "      <td>JOAQUIM SIMEÃO DE FARIA NETO</td>\n",
       "      <td>PMDB</td>\n",
       "      <td>MG</td>\n",
       "      <td>JUIZ DE FORA</td>\n",
       "      <td>PEQUERI</td>\n",
       "      <td>PREFEITO</td>\n",
       "      <td>52</td>\n",
       "      <td>eleito</td>\n",
       "    </tr>\n",
       "  </tbody>\n",
       "</table>\n",
       "</div>"
      ],
      "text/plain": [
       "     CPF_CANDIDATO  NUMERO_CANDIDATO                 NOME_CANDIDATO  \\\n",
       "19      4768285627                23   JOSÉ REIS NOGUEIRA DE BARROS   \n",
       "80     27992918649                11             ALAOR JOSE MACHADO   \n",
       "149    82245932668                55  EDSON RODRIGUES SUZART JUNIOR   \n",
       "162    98316834634                22            ANDRE LUIZ EUFRASIO   \n",
       "211    50760300615                15   JOAQUIM SIMEÃO DE FARIA NETO   \n",
       "\n",
       "    SIGLA_PARTIDO SIGLA_UF_NASCIMENTO NOME_MUNICIPIO_NASCIMENTO  \\\n",
       "19            PPS                  MG                  JANUÁRIA   \n",
       "80             PP                  MG           DORES DO INDAIA   \n",
       "149           PSD                  MG             MONTES CLAROS   \n",
       "162            PR                  MG                     BICAS   \n",
       "211          PMDB                  MG              JUIZ DE FORA   \n",
       "\n",
       "         DESCRICAO_UE DESCRICAO_CARGO  IDADE_DATA_ELEICAO DESC_SIT_TOT_TURNO  \n",
       "19    BONITO DE MINAS        PREFEITO                  35             eleito  \n",
       "80   SERRA DA SAUDADE        PREFEITO                  62             eleito  \n",
       "149        LUISLÂNDIA        PREFEITO                  47             eleito  \n",
       "162           GUARARÁ        PREFEITO                  42         não eleito  \n",
       "211           PEQUERI        PREFEITO                  52             eleito  "
      ]
     },
     "execution_count": 23,
     "metadata": {},
     "output_type": "execute_result"
    }
   ],
   "source": [
    "condition = df_candidatos['DESCRICAO_CARGO'] == 'PREFEITO'\n",
    "\n",
    "df_prefeitos = df_candidatos.loc[condition]\n",
    "df_prefeitos.head(5)"
   ]
  },
  {
   "cell_type": "markdown",
   "metadata": {},
   "source": [
    "### Número de candidatos"
   ]
  },
  {
   "cell_type": "code",
   "execution_count": 24,
   "metadata": {},
   "outputs": [
    {
     "name": "stdout",
     "output_type": "stream",
     "text": [
      "1336 Candidatos a prefeito que não candidataram para sua cidade natal em Minas Gerais no ano de 2016\n"
     ]
    }
   ],
   "source": [
    "print('{} Candidatos a prefeito que não candidataram para sua cidade natal em Minas Gerais no ano de 2016'.format(len(df_prefeitos.index)))"
   ]
  },
  {
   "cell_type": "code",
   "execution_count": null,
   "metadata": {
    "collapsed": true
   },
   "outputs": [],
   "source": []
  }
 ],
 "metadata": {
  "kernelspec": {
   "display_name": "Python 3",
   "language": "python",
   "name": "python3"
  },
  "language_info": {
   "codemirror_mode": {
    "name": "ipython",
    "version": 3
   },
   "file_extension": ".py",
   "mimetype": "text/x-python",
   "name": "python",
   "nbconvert_exporter": "python",
   "pygments_lexer": "ipython3",
   "version": "3.6.1"
  }
 },
 "nbformat": 4,
 "nbformat_minor": 2
}
